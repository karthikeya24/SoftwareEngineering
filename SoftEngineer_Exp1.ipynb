{
 "cells": [
  {
   "cell_type": "code",
   "execution_count": 1,
   "id": "6ec6f61b-69e8-44ee-aaec-a6fd499b12eb",
   "metadata": {},
   "outputs": [
    {
     "name": "stdout",
     "output_type": "stream",
     "text": [
      "Hard-coded Variables for Weather Modeling\n",
      "\n",
      "Temperature for hardcoded coefficients at time 5 hours: 45\n",
      "\n",
      "\n"
     ]
    }
   ],
   "source": [
    "#Hard-coded Variables for Weather Modeling\n",
    "def temperature_modeling(a, b, c, time):\n",
    "    temperature = a * time**2 + b * time + c\n",
    "    return temperature\n",
    "a_hardcoded, b_hardcoded, c_hardcoded = 1, 2, 10\n",
    "print(\"Hard-coded Variables for Weather Modeling\\n\")\n",
    "time_hardcoded = 5 \n",
    "print(\"Temperature for hardcoded coefficients at time\", time_hardcoded, \"hours:\", \n",
    "      temperature_modeling(a_hardcoded, b_hardcoded, c_hardcoded, time_hardcoded))\n",
    "print(\"\\n\")"
   ]
  },
  {
   "cell_type": "code",
   "execution_count": 15,
   "id": "6a259e04-8f22-478c-a4cd-2db99b8f6ed3",
   "metadata": {},
   "outputs": [
    {
     "name": "stdout",
     "output_type": "stream",
     "text": [
      "Keyboard Input for Weather Modeling\n"
     ]
    },
    {
     "name": "stdin",
     "output_type": "stream",
     "text": [
      "Enter coefficient a:  2\n",
      "Enter coefficient b:  4\n",
      "Enter coefficient c:  6\n",
      "Enter time in hours:  3\n"
     ]
    },
    {
     "name": "stdout",
     "output_type": "stream",
     "text": [
      "Temperature for keyboard input coefficients at time 3.0 hours: 36.0\n",
      "\n",
      "\n"
     ]
    }
   ],
   "source": [
    "#Keyboard Input for Weather Modeling\n",
    "def temperature_modeling(a, b, c, time):\n",
    "    temperature = a * time**2 + b * time + c\n",
    "    return temperature\n",
    "print(\"Keyboard Input for Weather Modeling\")\n",
    "a_keyboard = float(input(\"Enter coefficient a: \"))\n",
    "b_keyboard = float(input(\"Enter coefficient b: \"))\n",
    "c_keyboard = float(input(\"Enter coefficient c: \"))\n",
    "time_keyboard = float(input(\"Enter time in hours: \"))\n",
    "print(\"Temperature for keyboard input coefficients at time\", time_keyboard, \"hours:\", \n",
    "      temperature_modeling(a_keyboard, b_keyboard, c_keyboard, time_keyboard))\n",
    "print(\"\\n\")"
   ]
  },
  {
   "cell_type": "code",
   "execution_count": 17,
   "id": "a8fe23e4-14ee-4830-a35e-afccb3abeff5",
   "metadata": {},
   "outputs": [
    {
     "name": "stdout",
     "output_type": "stream",
     "text": [
      "Read from a File for Weather Modeling\n",
      "\n",
      "Temperature for file input coefficients at time 4.0 hours: 125.0\n",
      "\n",
      "\n"
     ]
    }
   ],
   "source": [
    "#Read from a File for Weather Modeling\n",
    "def temperature_modeling(a, b, c, time):\n",
    "    temperature = a * time**2 + b * time + c\n",
    "    return temperature\n",
    "\n",
    "with open(r\"C:\\Karthik\\SEM 6\\Software Engineering LAB\\weather.txt\", 'r') as file:\n",
    "    lines = file.readlines()\n",
    "    a_file, b_file, c_file, time_file = map(float, lines[0].split())\n",
    "\n",
    "print(\"Read from a File for Weather Modeling\\n\")\n",
    "print(\"Temperature for file input coefficients at time\", time_file, \"hours:\", \n",
    "      temperature_modeling(a_file, b_file, c_file, time_file))\n",
    "print(\"\\n\")"
   ]
  },
  {
   "cell_type": "code",
   "execution_count": 18,
   "id": "b831f93c-5753-4737-8038-59af605e94ad",
   "metadata": {},
   "outputs": [
    {
     "name": "stdout",
     "output_type": "stream",
     "text": [
      "User Input for Weather Modeling\n",
      "\n"
     ]
    },
    {
     "name": "stdin",
     "output_type": "stream",
     "text": [
      "Enter coefficients (a, b, c) separated by spaces:  2 5 7\n",
      "Enter time in hours:  3\n"
     ]
    },
    {
     "name": "stdout",
     "output_type": "stream",
     "text": [
      "Temperature for user-input coefficients at time 3.0 hours: 40.0\n"
     ]
    }
   ],
   "source": [
    "#User Input for Weather Modeling\n",
    "def temperature_modeling(a, b, c, time):\n",
    "    temperature = a * time**2 + b * time + c\n",
    "    return temperature\n",
    "\n",
    "print(\"User Input for Weather Modeling\\n\")\n",
    "coefficients = input(\"Enter coefficients (a, b, c) separated by spaces: \").split()\n",
    "a_user, b_user, c_user = map(float, coefficients)\n",
    "time_user = float(input(\"Enter time in hours: \"))\n",
    "\n",
    "print(\"Temperature for user-input coefficients at time\", time_user, \"hours:\", \n",
    "      temperature_modeling(a_user, b_user, c_user, time_user))"
   ]
  },
  {
   "cell_type": "code",
   "execution_count": 20,
   "id": "14be2329-84e6-4fc7-86dd-6ab38f383aa5",
   "metadata": {},
   "outputs": [
    {
     "name": "stdout",
     "output_type": "stream",
     "text": [
      "Multiple set User Input for Weather Modeling\n",
      "\n"
     ]
    },
    {
     "name": "stdin",
     "output_type": "stream",
     "text": [
      "Enter the number of sets of coefficients:  2\n"
     ]
    },
    {
     "name": "stdout",
     "output_type": "stream",
     "text": [
      "\n",
      "\n"
     ]
    },
    {
     "name": "stdin",
     "output_type": "stream",
     "text": [
      "Enter coefficients (a, b, c) separated by spaces:  2 5 8\n",
      "Enter time in hours:  4\n"
     ]
    },
    {
     "name": "stdout",
     "output_type": "stream",
     "text": [
      "Temperature for user-input coefficients at time 4.0 hours: 60.0\n",
      "\n",
      "\n"
     ]
    },
    {
     "name": "stdin",
     "output_type": "stream",
     "text": [
      "Enter coefficients (a, b, c) separated by spaces:  1 7 3\n",
      "Enter time in hours:  3\n"
     ]
    },
    {
     "name": "stdout",
     "output_type": "stream",
     "text": [
      "Temperature for user-input coefficients at time 3.0 hours: 33.0\n",
      "\n",
      "\n"
     ]
    }
   ],
   "source": [
    "#Multiple set User Input for Weather Modeling\n",
    "def temperature_modeling(a, b, c, time):\n",
    "    temperature = a * time**2 + b * time + c\n",
    "    return temperature\n",
    "\n",
    "print(\"Multiple set User Input for Weather Modeling\\n\")\n",
    "\n",
    "num_sets = int(input(\"Enter the number of sets of coefficients: \"))\n",
    "print(\"\\n\")\n",
    "\n",
    "for _ in range(num_sets):\n",
    "    coefficients = input(\"Enter coefficients (a, b, c) separated by spaces: \").split()\n",
    "    a_user, b_user, c_user = map(float, coefficients)\n",
    "\n",
    "    time_user = float(input(\"Enter time in hours: \"))\n",
    "\n",
    "    print(\"Temperature for user-input coefficients at time\", time_user, \"hours:\", \n",
    "          temperature_modeling(a_user, b_user, c_user, time_user))\n",
    "    print(\"\\n\")\n"
   ]
  },
  {
   "cell_type": "code",
   "execution_count": null,
   "id": "0c1ab2f9-41cb-428b-a402-7b9a3cd7a36e",
   "metadata": {},
   "outputs": [],
   "source": []
  }
 ],
 "metadata": {
  "kernelspec": {
   "display_name": "Python 3 (ipykernel)",
   "language": "python",
   "name": "python3"
  },
  "language_info": {
   "codemirror_mode": {
    "name": "ipython",
    "version": 3
   },
   "file_extension": ".py",
   "mimetype": "text/x-python",
   "name": "python",
   "nbconvert_exporter": "python",
   "pygments_lexer": "ipython3",
   "version": "3.12.1"
  }
 },
 "nbformat": 4,
 "nbformat_minor": 5
}
